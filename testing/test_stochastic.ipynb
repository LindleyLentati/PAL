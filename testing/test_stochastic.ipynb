{
 "metadata": {
  "name": "test_stochastic"
 },
 "nbformat": 3,
 "nbformat_minor": 0,
 "worksheets": [
  {
   "cells": [
    {
     "cell_type": "code",
     "collapsed": false,
     "input": [
      "from __future__ import division\n",
      "import palutils_createStochResids\n",
      "import numpy as np\n",
      "import matplotlib.pyplot as plt\n",
      "import libstempo as t2\n",
      "import PALpulsarInit\n",
      "import h5py as h5"
     ],
     "language": "python",
     "metadata": {},
     "outputs": [],
     "prompt_number": 7
    },
    {
     "cell_type": "code",
     "collapsed": false,
     "input": [
      "h5file = '/Users/Justin/Work/code/packages/PAL/data/open1.hdf5'"
     ],
     "language": "python",
     "metadata": {},
     "outputs": [],
     "prompt_number": 8
    },
    {
     "cell_type": "code",
     "collapsed": false,
     "input": [
      "# import hdf5 file\n",
      "pfile = h5.File(h5file, 'r')\n",
      "\n",
      "# define the pulsargroup\n",
      "pulsargroup = pfile['Data']['Pulsars']\n",
      "\n",
      "# fill in pulsar class\n",
      "psr = [PALpulsarInit.pulsar(pulsargroup[key],addNoise=True) for key in pulsargroup]\n",
      "\n",
      "pfile.close()"
     ],
     "language": "python",
     "metadata": {},
     "outputs": [
      {
       "output_type": "stream",
       "stream": "stdout",
       "text": [
        "WARNING: No distance info, using d = 1 kpc\n",
        "WARNING: No distance error info, using sigma_d = 0.1 kpc\n",
        "WARNING: No distance info, using d = 1 kpc\n",
        "WARNING: No distance error info, using sigma_d = 0.1 kpc\n",
        "WARNING: No distance info, using d = 1 kpc\n",
        "WARNING: No distance error info, using sigma_d = 0.1 kpc\n",
        "WARNING: No distance info, using d = 1 kpc\n",
        "WARNING: No distance error info, using sigma_d = 0.1 kpc\n",
        "WARNING: No distance info, using d = 1 kpc\n",
        "WARNING: No distance error info, using sigma_d = 0.1 kpc\n",
        "WARNING: No distance info, using d = 1 kpc\n",
        "WARNING: No distance error info, using sigma_d = 0.1 kpc\n",
        "WARNING: No distance info, using d = 1 kpc\n",
        "WARNING: No distance error info, using sigma_d = 0.1 kpc\n",
        "WARNING: No distance info, using d = 1 kpc\n",
        "WARNING: No distance error info, using sigma_d = 0.1 kpc\n",
        "WARNING: No distance info, using d = 1 kpc\n",
        "WARNING: No distance error info, using sigma_d = 0.1 kpc\n",
        "WARNING: No distance info, using d = 1 kpc\n",
        "WARNING: No distance error info, using sigma_d = 0.1 kpc\n",
        "WARNING: No distance info, using d = 1 kpc\n",
        "WARNING: No distance error info, using sigma_d = 0.1 kpc\n",
        "WARNING: No distance info, using d = 1 kpc\n",
        "WARNING: No distance error info, using sigma_d = 0.1 kpc\n",
        "WARNING: No distance info, using d = 1 kpc\n",
        "WARNING: No distance error info, using sigma_d = 0.1 kpc\n",
        "WARNING: No distance info, using d = 1 kpc\n",
        "WARNING: No distance error info, using sigma_d = 0.1 kpc\n",
        "WARNING: No distance info, using d = 1 kpc\n",
        "WARNING: No distance error info, using sigma_d = 0.1 kpc\n",
        "WARNING: No distance info, using d = 1 kpc\n",
        "WARNING: No distance error info, using sigma_d = 0.1 kpc\n",
        "WARNING: No distance info, using d = 1 kpc\n",
        "WARNING: No distance error info, using sigma_d = 0.1 kpc\n",
        "WARNING: No distance info, using d = 1 kpc\n",
        "WARNING: No distance error info, using sigma_d = 0.1 kpc\n",
        "WARNING: No distance info, using d = 1 kpc\n",
        "WARNING: No distance error info, using sigma_d = 0.1 kpc\n",
        "WARNING: No distance info, using d = 1 kpc\n",
        "WARNING: No distance error info, using sigma_d = 0.1 kpc\n",
        "WARNING: No distance info, using d = 1 kpc\n",
        "WARNING: No distance error info, using sigma_d = 0.1 kpc\n",
        "WARNING: No distance info, using d = 1 kpc\n",
        "WARNING: No distance error info, using sigma_d = 0.1 kpc\n",
        "WARNING: No distance info, using d = 1 kpc"
       ]
      },
      {
       "output_type": "stream",
       "stream": "stdout",
       "text": [
        "\n",
        "WARNING: No distance error info, using sigma_d = 0.1 kpc\n",
        "WARNING: No distance info, using d = 1 kpc\n",
        "WARNING: No distance error info, using sigma_d = 0.1 kpc\n",
        "WARNING: No distance info, using d = 1 kpc\n",
        "WARNING: No distance error info, using sigma_d = 0.1 kpc\n",
        "WARNING: No distance info, using d = 1 kpc\n",
        "WARNING: No distance error info, using sigma_d = 0.1 kpc\n",
        "WARNING: No distance info, using d = 1 kpc\n",
        "WARNING: No distance error info, using sigma_d = 0.1 kpc\n",
        "WARNING: No distance info, using d = 1 kpc\n",
        "WARNING: No distance error info, using sigma_d = 0.1 kpc\n",
        "WARNING: No distance info, using d = 1 kpc\n",
        "WARNING: No distance error info, using sigma_d = 0.1 kpc\n",
        "WARNING: No distance info, using d = 1 kpc\n",
        "WARNING: No distance error info, using sigma_d = 0.1 kpc\n",
        "WARNING: No distance info, using d = 1 kpc\n",
        "WARNING: No distance error info, using sigma_d = 0.1 kpc\n",
        "WARNING: No distance info, using d = 1 kpc\n",
        "WARNING: No distance error info, using sigma_d = 0.1 kpc\n",
        "WARNING: No distance info, using d = 1 kpc\n",
        "WARNING: No distance error info, using sigma_d = 0.1 kpc\n",
        "WARNING: No distance info, using d = 1 kpc\n",
        "WARNING: No distance error info, using sigma_d = 0.1 kpc\n",
        "WARNING: No distance info, using d = 1 kpc\n",
        "WARNING: No distance error info, using sigma_d = 0.1 kpc\n",
        "WARNING: No distance info, using d = 1 kpc\n",
        "WARNING: No distance error info, using sigma_d = 0.1 kpc\n"
       ]
      }
     ],
     "prompt_number": 9
    },
    {
     "cell_type": "code",
     "collapsed": false,
     "input": [
      "res= palutils_createStochResids.createStochasticResiduals(psr, 1e-15, 4.33)"
     ],
     "language": "python",
     "metadata": {},
     "outputs": [],
     "prompt_number": 10
    },
    {
     "cell_type": "code",
     "collapsed": false,
     "input": [
      "psr = t2.tempopulsar('/Users/Justin/Work/data_challenge/2012/IPTA_Challenge1_open/Challenge_Data/Dataset1/J0030+0451.par','/Users/Justin/Work/data_challenge/2012/IPTA_Challenge1_open/Challenge_Data/Dataset1/J0030+0451.tim')"
     ],
     "language": "python",
     "metadata": {},
     "outputs": [],
     "prompt_number": 11
    },
    {
     "cell_type": "code",
     "collapsed": false,
     "input": [],
     "language": "python",
     "metadata": {},
     "outputs": [],
     "prompt_number": 10
    }
   ],
   "metadata": {}
  }
 ]
}